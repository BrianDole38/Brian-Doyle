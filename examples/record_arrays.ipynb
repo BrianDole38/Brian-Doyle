{
 "cells": [
  {
   "cell_type": "code",
   "execution_count": 1,
   "metadata": {},
   "outputs": [],
   "source": [
    "from numba import njit\n",
    "import numpy as np"
   ]
  },
  {
   "cell_type": "code",
   "execution_count": 2,
   "metadata": {},
   "outputs": [],
   "source": [
    "@njit\n",
    "def modify_particle_struct(pset, pset2):\n",
    "    pset2[0] = pset[1]\n",
    "    print(pset2[0])\n",
    "    pset[\"lat\"][1] = 1.2\n",
    "    pset[\"lon\"][1] = 3.4\n",
    "    pset[\"user\"][1] = 5\n",
    "    print(pset[1])\n",
    "    pset[1] = pset2[0]\n",
    "    print(pset[1], pset2[0])"
   ]
  },
  {
   "cell_type": "code",
   "execution_count": 3,
   "metadata": {},
   "outputs": [],
   "source": [
    "@njit\n",
    "def modify_particle_rec(pset, pset2):\n",
    "    # Make backup of particle\n",
    "    pset2[0] = pset[1]\n",
    "    print(pset2[0])\n",
    "    p = pset[1]\n",
    "\n",
    "    # User kernel\n",
    "    p.lon = 1.3\n",
    "    p.lat = 0.129981273\n",
    "    p.user = 1238\n",
    "\n",
    "    # Show that it has changed\n",
    "    print(pset[1])\n",
    "\n",
    "    # Restore backup of particle\n",
    "    pset[1] = pset2[0]\n",
    "    print(pset[1], pset2[0])"
   ]
  },
  {
   "cell_type": "code",
   "execution_count": 4,
   "metadata": {},
   "outputs": [],
   "source": [
    "np.random.seed(123094)\n",
    "n_particle=20\n",
    "dtype = [('lat', 'f4'), ('lon', 'f4'), ('user', 'i4')]\n",
    "pset = np.empty(n_particle, dtype=dtype)\n",
    "pset2 = np.empty(1, dtype=dtype)\n",
    "pset[\"lat\"] = np.random.randn(n_particle)\n",
    "pset[\"lon\"] = np.random.randn(n_particle)\n",
    "pset[\"user\"] = np.random.randn(n_particle)\n",
    "\n",
    "rec_pset = pset.view(np.recarray)\n",
    "rec_pset2 = pset2.view(np.recarray)"
   ]
  },
  {
   "cell_type": "code",
   "execution_count": 5,
   "metadata": {},
   "outputs": [
    {
     "name": "stdout",
     "output_type": "stream",
     "text": [
      "(2.6956165, 1.2551252, 0)\n",
      "(1.2, 3.4, 5)\n",
      "(2.6956165, 1.2551252, 0) (2.6956165, 1.2551252, 0)\n"
     ]
    }
   ],
   "source": [
    "modify_particle_struct(pset, pset2)"
   ]
  },
  {
   "cell_type": "code",
   "execution_count": 6,
   "metadata": {},
   "outputs": [
    {
     "name": "stdout",
     "output_type": "stream",
     "text": [
      "(2.6956165, 1.2551252, 0)\n",
      "(0.12998128, 1.3, 1238)\n",
      "(2.6956165, 1.2551252, 0) (2.6956165, 1.2551252, 0)\n"
     ]
    }
   ],
   "source": [
    "modify_particle_rec(rec_pset, rec_pset2)"
   ]
  },
  {
   "cell_type": "code",
   "execution_count": 9,
   "metadata": {},
   "outputs": [
    {
     "name": "stdout",
     "output_type": "stream",
     "text": [
      "1.2873712\n",
      "1.2551252\n",
      "0.6082341\n",
      "-0.33643928\n",
      "-1.1322147\n",
      "0.41724986\n",
      "1.1777635\n",
      "-0.6212708\n",
      "2.5191858\n",
      "0.16749278\n",
      "0.48592857\n",
      "-0.9049462\n",
      "-0.54608625\n",
      "-1.0791095\n",
      "2.4660275\n",
      "2.5236087\n",
      "0.59924185\n",
      "0.7278359\n",
      "-0.22757146\n",
      "0.70453954\n"
     ]
    }
   ],
   "source": [
    "for p in rec_pset:\n",
    "    print(p.lon)"
   ]
  },
  {
   "cell_type": "code",
   "execution_count": null,
   "metadata": {},
   "outputs": [],
   "source": []
  }
 ],
 "metadata": {
  "kernelspec": {
   "display_name": "Python 3",
   "language": "python",
   "name": "python3"
  },
  "language_info": {
   "codemirror_mode": {
    "name": "ipython",
    "version": 3
   },
   "file_extension": ".py",
   "mimetype": "text/x-python",
   "name": "python",
   "nbconvert_exporter": "python",
   "pygments_lexer": "ipython3",
   "version": "3.9.7"
  }
 },
 "nbformat": 4,
 "nbformat_minor": 4
}
