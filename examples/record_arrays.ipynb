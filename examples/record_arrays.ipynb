{
 "cells": [
  {
   "cell_type": "code",
   "execution_count": 1,
   "metadata": {},
   "outputs": [],
   "source": [
    "from numba import njit\n",
    "import numpy as np"
   ]
  },
  {
   "cell_type": "code",
   "execution_count": null,
   "metadata": {},
   "outputs": [],
   "source": [
    "@njit\n",
    "def modify_particle_struct(pset, pset2):\n",
    "    pset2[0] = pset[1]\n",
    "    print(pset2[0])\n",
    "    pset[\"lat\"][1] = 1.2\n",
    "    pset[\"lon\"][1] = 3.4\n",
    "    pset[\"user\"][1] = 5\n",
    "    print(pset[1])\n",
    "    pset[1] = pset2[0]\n",
    "    print(pset[1], pset2[0])"
   ]
  }
 ],
 "metadata": {
  "kernelspec": {
   "display_name": "Python 3",
   "language": "python",
   "name": "python3"
  },
  "language_info": {
   "codemirror_mode": {
    "name": "ipython",
    "version": 3
   },
   "file_extension": ".py",
   "mimetype": "text/x-python",
   "name": "python",
   "nbconvert_exporter": "python",
   "pygments_lexer": "ipython3",
   "version": "3.9.7"
  }
 },
 "nbformat": 4,
 "nbformat_minor": 4
}
