{
 "cells": [
  {
   "cell_type": "code",
   "execution_count": 1,
   "metadata": {},
   "outputs": [],
   "source": [
    "from datetime import timedelta as delta\n",
    "from parcels import FieldSet, AdvectionRK4\n",
    "import numpy as np\n",
    "from parcels import ParticleSetSOA, ScipyParticle, JITParticle\n",
    "\n",
    "npart = 10000\n",
    "\n",
    "f = 1.e-4\n",
    "u_0 = 0.3\n",
    "u_g = 0.04\n",
    "gamma = 1/(86400. * 2.89)\n",
    "gamma_g = 1/(86400. * 28.9)"
   ]
  },
  {
   "cell_type": "code",
   "execution_count": 2,
   "metadata": {},
   "outputs": [],
   "source": [
    "def fieldset_stationary(xdim=100, ydim=100, maxtime=delta(hours=6)):\n",
    "    \"\"\"Generate a FieldSet encapsulating the flow field of a stationary eddy.\n",
    "\n",
    "    Reference: N. Fabbroni, 2009, \"Numerical simulations of passive\n",
    "    tracers dispersion in the sea\"\n",
    "    \"\"\"\n",
    "    time = np.arange(0., maxtime.total_seconds()+1e-5, 60., dtype=np.float64)\n",
    "    dimensions = {'lon': np.linspace(0, 25000, xdim, dtype=np.float32),\n",
    "                  'lat': np.linspace(0, 25000, ydim, dtype=np.float32),\n",
    "                  'time': time}\n",
    "    data = {'U': np.ones((xdim, ydim, 1), dtype=np.float32) * u_0 * np.cos(f * time),\n",
    "            'V': np.ones((xdim, ydim, 1), dtype=np.float32) * -u_0 * np.sin(f * time)}\n",
    "    return FieldSet.from_data(data, dimensions, mesh='flat', transpose=True)"
   ]
  },
  {
   "cell_type": "code",
   "execution_count": 3,
   "metadata": {},
   "outputs": [],
   "source": [
    "ptype = ScipyParticle\n",
    "fieldset = fieldset_stationary()\n",
    "lon = np.linspace(12000, 21000, npart)\n",
    "lat = np.linspace(12500, 12500, npart)\n",
    "pset = ParticleSetSOA(fieldset, pclass=ptype, lon=lon, lat=lat)\n",
    "endtime = delta(hours=6).total_seconds()\n"
   ]
  },
  {
   "cell_type": "code",
   "execution_count": 4,
   "metadata": {},
   "outputs": [
    {
     "name": "stdout",
     "output_type": "stream",
     "text": [
      "CPU times: user 1min 4s, sys: 380 ms, total: 1min 4s\n",
      "Wall time: 1min 4s\n"
     ]
    }
   ],
   "source": [
    "%%time\n",
    "pset.execute(AdvectionRK4, dt=delta(minutes=25), endtime=endtime)\n"
   ]
  },
  {
   "cell_type": "code",
   "execution_count": 5,
   "metadata": {},
   "outputs": [],
   "source": [
    "ptype = JITParticle\n",
    "fieldset = fieldset_stationary()\n",
    "lon = np.linspace(12000, 21000, npart)\n",
    "lat = np.linspace(12500, 12500, npart)\n",
    "pset = ParticleSetSOA(fieldset, pclass=ptype, lon=lon, lat=lat)\n",
    "endtime = delta(hours=6).total_seconds()\n"
   ]
  },
  {
   "cell_type": "code",
   "execution_count": 6,
   "metadata": {},
   "outputs": [
    {
     "name": "stderr",
     "output_type": "stream",
     "text": [
      "INFO: Compiled ArrayJITParticleAdvectionRK4 ==> /tmp/parcels-1000/lib4b6e96b2215a4775e084478cefaa750b_0.so\n"
     ]
    },
    {
     "name": "stdout",
     "output_type": "stream",
     "text": [
      "CPU times: user 1min 4s, sys: 9.14 ms, total: 1min 4s\n",
      "Wall time: 1min 5s\n"
     ]
    }
   ],
   "source": [
    "%%time\n",
    "pset.execute(AdvectionRK4, dt=delta(seconds=1), endtime=endtime)\n"
   ]
  },
  {
   "cell_type": "code",
   "execution_count": null,
   "metadata": {},
   "outputs": [],
   "source": []
  }
 ],
 "metadata": {
  "kernelspec": {
   "display_name": "Python 3",
   "language": "python",
   "name": "python3"
  },
  "language_info": {
   "codemirror_mode": {
    "name": "ipython",
    "version": 3
   },
   "file_extension": ".py",
   "mimetype": "text/x-python",
   "name": "python",
   "nbconvert_exporter": "python",
   "pygments_lexer": "ipython3",
   "version": "3.9.6"
  }
 },
 "nbformat": 4,
 "nbformat_minor": 4
}
