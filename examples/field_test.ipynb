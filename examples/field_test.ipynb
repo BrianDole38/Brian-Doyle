{
 "cells": [
  {
   "cell_type": "code",
   "execution_count": 1,
   "metadata": {},
   "outputs": [],
   "source": [
    "from parcels.field import Field\n",
    "from parcels.numba.field.vector_field_2d import NumbaVectorField2D\n",
    "from parcels.fieldset import FieldSet\n",
    "from parcels.numba.pset import create_record_pset\n",
    "from parcels.application_kernels import AdvectionRK4\n",
    "from numba import njit\n",
    "import numpy as np"
   ]
  },
  {
   "cell_type": "code",
   "execution_count": 2,
   "metadata": {},
   "outputs": [],
   "source": [
    "def create_field(n_lon=20, n_lat=40, n_depth=5, n_time=10, field_3d=False):\n",
    "    lon = np.linspace(1, 2, n_lon, dtype=np.float32)\n",
    "    lat = np.linspace(0, 1, n_lat, dtype=np.float32)\n",
    "    time = np.linspace(4, 5, n_time, dtype=np.float64)\n",
    "    time_origin = 4\n",
    "    if not field_3d:\n",
    "        n_depth = 1\n",
    "    data = np.random.randn(n_time, n_depth, n_lat, n_lon).astype(np.float32)\n",
    "    depth = np.linspace(2, 3, n_depth, dtype=np.float32)\n",
    "    name = f\"random_{np.random.randint(10)}\"\n",
    "    return Field(name, data, lon, lat, depth, time, time_origin=time_origin)\n"
   ]
  },
  {
   "cell_type": "code",
   "execution_count": 3,
   "metadata": {},
   "outputs": [],
   "source": [
    "U = create_field()\n",
    "V = create_field()\n",
    "X = create_field()"
   ]
  },
  {
   "cell_type": "code",
   "execution_count": 4,
   "metadata": {},
   "outputs": [],
   "source": [
    "fieldset = FieldSet(U, V, {\"X\": X})"
   ]
  },
  {
   "cell_type": "code",
   "execution_count": 5,
   "metadata": {},
   "outputs": [
    {
     "data": {
      "text/plain": [
       "(-0.06903871627262789, -0.1810553475964794)"
      ]
     },
     "execution_count": 5,
     "metadata": {},
     "output_type": "execute_result"
    }
   ],
   "source": [
    "fieldset.UV[4.01, 2.5, 0.5, 1.5]"
   ]
  },
  {
   "cell_type": "code",
   "execution_count": 6,
   "metadata": {},
   "outputs": [
    {
     "data": {
      "text/plain": [
       "-0.6570538412706141"
      ]
     },
     "execution_count": 6,
     "metadata": {},
     "output_type": "execute_result"
    }
   ],
   "source": [
    "fieldset.X[4.01, 2.5, 0.5, 1.5]"
   ]
  },
  {
   "cell_type": "code",
   "execution_count": 7,
   "metadata": {},
   "outputs": [],
   "source": [
    "pset = create_record_pset(100)"
   ]
  },
  {
   "cell_type": "code",
   "execution_count": 8,
   "metadata": {},
   "outputs": [],
   "source": [
    "kernel = njit(AdvectionRK4)"
   ]
  },
  {
   "cell_type": "code",
   "execution_count": 9,
   "metadata": {},
   "outputs": [],
   "source": [
    "p = pset[0]\n",
    "p.depth = 2.5\n",
    "p.lat = 0.5\n",
    "p.lon = 1.5"
   ]
  },
  {
   "cell_type": "code",
   "execution_count": 10,
   "metadata": {},
   "outputs": [],
   "source": [
    "kernel(p, fieldset.numba_fieldset, 4.01)"
   ]
  },
  {
   "cell_type": "code",
   "execution_count": 11,
   "metadata": {},
   "outputs": [
    {
     "data": {
      "text/plain": [
       "(0.01, 0.4979967, 1.499185, 2.5, 0, 0)"
      ]
     },
     "execution_count": 11,
     "metadata": {},
     "output_type": "execute_result"
    }
   ],
   "source": [
    "p"
   ]
  },
  {
   "cell_type": "code",
   "execution_count": null,
   "metadata": {},
   "outputs": [],
   "source": []
  }
 ],
 "metadata": {
  "kernelspec": {
   "display_name": "Python 3 (ipykernel)",
   "language": "python",
   "name": "python3"
  },
  "language_info": {
   "codemirror_mode": {
    "name": "ipython",
    "version": 3
   },
   "file_extension": ".py",
   "mimetype": "text/x-python",
   "name": "python",
   "nbconvert_exporter": "python",
   "pygments_lexer": "ipython3",
   "version": "3.9.7"
  }
 },
 "nbformat": 4,
 "nbformat_minor": 4
}
