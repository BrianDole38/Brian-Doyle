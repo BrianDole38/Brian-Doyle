{
 "cells": [
  {
   "cell_type": "code",
   "execution_count": 1,
   "metadata": {},
   "outputs": [],
   "source": [
    "from parcels.numba.grid.field import NumbaField\n",
    "from parcels.numba.grid.grid import Grid\n",
    "from parcels.numba.grid.vector_field_2d import NumbaVectorField2D\n",
    "from numba import njit\n",
    "import numpy as np"
   ]
  },
  {
   "cell_type": "code",
   "execution_count": 2,
   "metadata": {},
   "outputs": [],
   "source": [
    "def create_grid(n_lon=20, n_lat=40, n_depth=5, n_time=10, field_3d=False):\n",
    "    lon = np.linspace(1, 2, n_lon, dtype=np.float32)\n",
    "    lat = np.linspace(0, 1, n_lat, dtype=np.float32)\n",
    "    depth = np.linspace(2, 3, n_depth, dtype=np.float32)\n",
    "    time = np.linspace(4, 5, n_time, dtype=np.float64)\n",
    "    time_origin = 4\n",
    "    if field_3d:\n",
    "        data = np.random.randn(n_time, n_depth, n_lon, n_lat).astype(np.float32)\n",
    "    else:\n",
    "        data = np.random.randn(n_time, 1, n_lon, n_lat).astype(np.float32)\n",
    "    return Grid.create_grid(lon, lat, depth, time, time_origin, mesh=\"linear\"), data\n"
   ]
  },
  {
   "cell_type": "code",
   "execution_count": 3,
   "metadata": {},
   "outputs": [],
   "source": [
    "grid_2d, data_2d = create_grid(field_3d=False)\n",
    "grid_3d, data_3d = create_grid(field_3d=True)"
   ]
  },
  {
   "cell_type": "code",
   "execution_count": 4,
   "metadata": {},
   "outputs": [],
   "source": [
    "f_2d = NumbaField(grid_2d, data_2d)\n",
    "f_3d = NumbaField(grid_3d, data_3d)"
   ]
  },
  {
   "cell_type": "code",
   "execution_count": 5,
   "metadata": {},
   "outputs": [],
   "source": [
    "U = f_3d\n",
    "V = NumbaField(*create_grid())"
   ]
  },
  {
   "cell_type": "code",
   "execution_count": 6,
   "metadata": {},
   "outputs": [],
   "source": [
    "vec_field = NumbaVectorField2D(\"hi\", U, V)"
   ]
  },
  {
   "cell_type": "code",
   "execution_count": 7,
   "metadata": {},
   "outputs": [
    {
     "data": {
      "text/plain": [
       "(0.5, 0.49999941885535426, 0.0, 9, 19, 2)"
      ]
     },
     "execution_count": 7,
     "metadata": {},
     "output_type": "execute_result"
    }
   ],
   "source": [
    "vec_field.V.grid.search_indices(1.5, 0.5, 2.5)"
   ]
  },
  {
   "cell_type": "code",
   "execution_count": 8,
   "metadata": {},
   "outputs": [
    {
     "name": "stdout",
     "output_type": "stream",
     "text": [
      "0 2.5 0.5 1.5\n",
      "1 2.5 0.5 1.5\n"
     ]
    },
    {
     "data": {
      "text/plain": [
       "(2.2675534459948574, 1.3552190390229246)"
      ]
     },
     "execution_count": 8,
     "metadata": {},
     "output_type": "execute_result"
    }
   ],
   "source": [
    "vec_field.eval(4.01, 2.5, 0.5, 1.5)"
   ]
  },
  {
   "cell_type": "code",
   "execution_count": 19,
   "metadata": {},
   "outputs": [
    {
     "name": "stdout",
     "output_type": "stream",
     "text": [
      "0 2.5 0.5 1.5\n",
      "1 2.5 0.5 1.5\n"
     ]
    },
    {
     "data": {
      "text/plain": [
       "(1.2748195964098012, 0.7390579742193244)"
      ]
     },
     "execution_count": 19,
     "metadata": {},
     "output_type": "execute_result"
    }
   ],
   "source": [
    "vec_field[4.06, 2.5, 0.5, 1.5]"
   ]
  },
  {
   "cell_type": "code",
   "execution_count": 9,
   "metadata": {},
   "outputs": [
    {
     "name": "stdout",
     "output_type": "stream",
     "text": [
      "0 2.5 0.5 1.5\n"
     ]
    },
    {
     "data": {
      "text/plain": [
       "-0.2884458601474762"
      ]
     },
     "execution_count": 9,
     "metadata": {},
     "output_type": "execute_result"
    }
   ],
   "source": [
    "f_2d.interpolator2D(0, 2.5, 0.5, 1.5, None)"
   ]
  },
  {
   "cell_type": "code",
   "execution_count": 10,
   "metadata": {},
   "outputs": [
    {
     "data": {
      "text/plain": [
       "2.4661002159118652"
      ]
     },
     "execution_count": 10,
     "metadata": {},
     "output_type": "execute_result"
    }
   ],
   "source": [
    "f_3d.interpolator3D(0, 2.5, 0.5, 1.5, 4.01, None)"
   ]
  },
  {
   "cell_type": "code",
   "execution_count": 11,
   "metadata": {},
   "outputs": [
    {
     "data": {
      "text/plain": [
       "2.2675534459948574"
      ]
     },
     "execution_count": 11,
     "metadata": {},
     "output_type": "execute_result"
    }
   ],
   "source": [
    "f_3d.eval(4.01, 2.5, 0.5, 1.5)"
   ]
  },
  {
   "cell_type": "code",
   "execution_count": 12,
   "metadata": {},
   "outputs": [
    {
     "data": {
      "text/plain": [
       "array([4.        , 4.11111111, 4.22222222, 4.33333333, 4.44444444,\n",
       "       4.55555556, 4.66666667, 4.77777778, 4.88888889, 5.        ])"
      ]
     },
     "execution_count": 12,
     "metadata": {},
     "output_type": "execute_result"
    }
   ],
   "source": [
    "grid_2d.time"
   ]
  },
  {
   "cell_type": "code",
   "execution_count": 13,
   "metadata": {},
   "outputs": [],
   "source": [
    "@njit\n",
    "def test(x):\n",
    "    if x > 0:\n",
    "        err = f\"123{x}\".format(x)\n",
    "        #raise ValueError(\"123\"+str(1))\n",
    "        raise ValueError(err)\n",
    "        return (1, 1.0)\n",
    "    else:\n",
    "        return (2, 2.0)"
   ]
  },
  {
   "cell_type": "code",
   "execution_count": 14,
   "metadata": {},
   "outputs": [],
   "source": [
    "@njit\n",
    "def test_2(x):\n",
    "    (yi, y) = test(x)\n",
    "    return yi, y"
   ]
  },
  {
   "cell_type": "code",
   "execution_count": 15,
   "metadata": {},
   "outputs": [],
   "source": [
    "@njit\n",
    "def test_3(*args, **kwargs):\n",
    "    return test(*args, **kwargs)\n",
    "    "
   ]
  },
  {
   "cell_type": "code",
   "execution_count": 16,
   "metadata": {},
   "outputs": [
    {
     "ename": "TypeError",
     "evalue": "not enough arguments: expected 2, got 1",
     "output_type": "error",
     "traceback": [
      "\u001b[0;31m---------------------------------------------------------------------------\u001b[0m",
      "\u001b[0;31mTypeError\u001b[0m                                 Traceback (most recent call last)",
      "\u001b[0;32m/var/folders/g8/ym9d_n_57gg7dyydp9pz9qbw0000gn/T/ipykernel_85734/606906367.py\u001b[0m in \u001b[0;36m<module>\u001b[0;34m\u001b[0m\n\u001b[0;32m----> 1\u001b[0;31m \u001b[0mtest_3\u001b[0m\u001b[0;34m(\u001b[0m\u001b[0;36m1.4\u001b[0m\u001b[0;34m)\u001b[0m\u001b[0;34m\u001b[0m\u001b[0;34m\u001b[0m\u001b[0m\n\u001b[0m",
      "\u001b[0;31mTypeError\u001b[0m: not enough arguments: expected 2, got 1"
     ]
    }
   ],
   "source": [
    "test_3(1.4)"
   ]
  },
  {
   "cell_type": "code",
   "execution_count": null,
   "metadata": {},
   "outputs": [],
   "source": []
  }
 ],
 "metadata": {
  "kernelspec": {
   "display_name": "Python 3 (ipykernel)",
   "language": "python",
   "name": "python3"
  },
  "language_info": {
   "codemirror_mode": {
    "name": "ipython",
    "version": 3
   },
   "file_extension": ".py",
   "mimetype": "text/x-python",
   "name": "python",
   "nbconvert_exporter": "python",
   "pygments_lexer": "ipython3",
   "version": "3.9.7"
  }
 },
 "nbformat": 4,
 "nbformat_minor": 4
}
