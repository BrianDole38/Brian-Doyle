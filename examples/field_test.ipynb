{
 "cells": [
  {
   "cell_type": "code",
   "execution_count": 1,
   "metadata": {},
   "outputs": [],
   "source": [
    "from parcels.numba.grid.field import NumbaField\n",
    "from parcels.numba.grid.grid import Grid\n",
    "from numba import njit\n",
    "import numpy as np"
   ]
  },
  {
   "cell_type": "code",
   "execution_count": 2,
   "metadata": {},
   "outputs": [],
   "source": [
    "lon = np.linspace(1, 2, 200, dtype=np.float32)\n",
    "lat = np.linspace(0, 1, 100, dtype=np.float32)\n",
    "depth = np.linspace(2, 3, 300, dtype=np.float32)\n",
    "time = np.linspace(4, 5, 400, dtype=np.float64)\n",
    "time_origin = 4\n",
    "data = np.random.randn(400, 100, 200).astype(np.float32)\n",
    "\n",
    "\n",
    "grid = Grid.create_grid(lon, lat, depth, time, time_origin, mesh=\"linear\")"
   ]
  },
  {
   "cell_type": "code",
   "execution_count": 3,
   "metadata": {},
   "outputs": [],
   "source": [
    "f = NumbaField(grid, data)"
   ]
  },
  {
   "cell_type": "code",
   "execution_count": 4,
   "metadata": {},
   "outputs": [],
   "source": [
    "# grid.search_indices_vertical(2.5, 0.5, 1.5, 21, 24, 0.2, 0.1, 10, 10.3)"
   ]
  },
  {
   "cell_type": "code",
   "execution_count": 5,
   "metadata": {},
   "outputs": [
    {
     "data": {
      "text/plain": [
       "0.4268544316291809"
      ]
     },
     "execution_count": 5,
     "metadata": {},
     "output_type": "execute_result"
    }
   ],
   "source": [
    "f.interpolator2D(0, 2.5, 0.5, 1.5, None)"
   ]
  },
  {
   "cell_type": "code",
   "execution_count": 6,
   "metadata": {},
   "outputs": [],
   "source": [
    "@njit\n",
    "def test(x):\n",
    "    if x > 0:\n",
    "        err = f\"123{x}\".format(x)\n",
    "        #raise ValueError(\"123\"+str(1))\n",
    "        raise ValueError(err)\n",
    "        return (1, 1.0)\n",
    "    else:\n",
    "        return (2, 2.0)"
   ]
  },
  {
   "cell_type": "code",
   "execution_count": 7,
   "metadata": {},
   "outputs": [],
   "source": [
    "@njit\n",
    "def test_2(x):\n",
    "    (yi, y) = test(x)\n",
    "    return yi, y"
   ]
  },
  {
   "cell_type": "code",
   "execution_count": null,
   "metadata": {},
   "outputs": [],
   "source": [
    "\"a{x}a\".format(x=129)"
   ]
  },
  {
   "cell_type": "code",
   "execution_count": null,
   "metadata": {},
   "outputs": [],
   "source": []
  }
 ],
 "metadata": {
  "kernelspec": {
   "display_name": "Python 3 (ipykernel)",
   "language": "python",
   "name": "python3"
  },
  "language_info": {
   "codemirror_mode": {
    "name": "ipython",
    "version": 3
   },
   "file_extension": ".py",
   "mimetype": "text/x-python",
   "name": "python",
   "nbconvert_exporter": "python",
   "pygments_lexer": "ipython3",
   "version": "3.9.7"
  }
 },
 "nbformat": 4,
 "nbformat_minor": 4
}
