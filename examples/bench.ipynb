{
 "cells": [
  {
   "cell_type": "code",
   "execution_count": 12,
   "metadata": {},
   "outputs": [],
   "source": [
    "from parcels.numba import NumbaParticle, NumbaFieldset, fast_execute, NumbaPSet, PythonFieldset, PSet, python_execute\n",
    "from parcels import AdvectionRK4\n",
    "import numpy as np\n",
    "import numba as nb\n",
    "from numba import njit"
   ]
  },
  {
   "cell_type": "code",
   "execution_count": 2,
   "metadata": {},
   "outputs": [],
   "source": [
    "n_particles = 100000\n",
    "n_time = int(3e3)\n",
    "args = np.full(n_particles, 0.001), 0.1*np.arange(n_particles), 1.0*np.arange(n_particles), np.zeros(n_particles)"
   ]
  },
  {
   "cell_type": "code",
   "execution_count": 3,
   "metadata": {},
   "outputs": [],
   "source": [
    "numba_pset = NumbaPSet(*args)\n",
    "numba_advection = nb.njit(AdvectionRK4)"
   ]
  },
  {
   "cell_type": "code",
   "execution_count": 8,
   "metadata": {},
   "outputs": [
    {
     "name": "stdout",
     "output_type": "stream",
     "text": [
      "CPU times: user 4.1 s, sys: 13 µs, total: 4.1 s\n",
      "Wall time: 4.1 s\n"
     ]
    }
   ],
   "source": [
    "%%time\n",
    "fast_execute(numba_advection, NumbaFieldset(), numba_pset, n_time=n_time)"
   ]
  },
  {
   "cell_type": "code",
   "execution_count": 5,
   "metadata": {},
   "outputs": [],
   "source": [
    "python_pset = PSet(*args)\n",
    "python_fieldset = PythonFieldset()"
   ]
  },
  {
   "cell_type": "code",
   "execution_count": 6,
   "metadata": {},
   "outputs": [
    {
     "name": "stdout",
     "output_type": "stream",
     "text": [
      "CPU times: user 12min 57s, sys: 76.8 ms, total: 12min 58s\n",
      "Wall time: 12min 58s\n"
     ]
    }
   ],
   "source": [
    "%%time\n",
    "python_execute(AdvectionRK4, python_fieldset, python_pset, n_time=n_time)"
   ]
  },
  {
   "cell_type": "code",
   "execution_count": 7,
   "metadata": {},
   "outputs": [],
   "source": [
    "assert np.allclose(python_pset.lat, numba_pset.lat)\n",
    "assert np.allclose(python_pset.lon, numba_pset.lon)"
   ]
  },
  {
   "cell_type": "code",
   "execution_count": 8,
   "metadata": {},
   "outputs": [],
   "source": [
    "data = []\n",
    "data = [np.random.randn(10, 10) if np.random.rand() < 0.5 else np.zeros((1, 1)) for _ in range(100) ]"
   ]
  },
  {
   "cell_type": "code",
   "execution_count": 19,
   "metadata": {},
   "outputs": [],
   "source": [
    "from numba.typed import List\n",
    "data = List()\n",
    "for _ in range(100):\n",
    "    if np.random.rand() < 0.5:\n",
    "        data.append(np.random.randn(10, 10))\n",
    "    else:\n",
    "        data.append(np.zeros((1, 1)))\n"
   ]
  },
  {
   "cell_type": "code",
   "execution_count": 22,
   "metadata": {},
   "outputs": [],
   "source": [
    "@njit\n",
    "def compute_mean(list_of_array):\n",
    "    for array in list_of_array:\n",
    "        print(array.sum())"
   ]
  },
  {
   "cell_type": "code",
   "execution_count": 23,
   "metadata": {},
   "outputs": [
    {
     "name": "stdout",
     "output_type": "stream",
     "text": [
      "0.0\n",
      "-4.674035713414878\n",
      "0.32284292735872616\n",
      "0.0\n",
      "0.0\n",
      "0.0\n",
      "-0.4770798188927807\n",
      "0.0\n",
      "0.0\n",
      "-10.872044996741344\n",
      "0.0\n",
      "0.0\n",
      "0.0\n",
      "0.0\n",
      "0.007830705218519363\n",
      "-16.07894784781757\n",
      "-1.5939531063981713\n",
      "0.0\n",
      "0.0\n",
      "0.0\n",
      "0.0\n",
      "-23.057172659604323\n",
      "0.0\n",
      "14.765818974421888\n",
      "0.0\n",
      "5.430823534776673\n",
      "0.0\n",
      "0.0\n",
      "-4.588097998769878\n",
      "0.0\n",
      "0.0\n",
      "6.676430928649864\n",
      "7.965484449857062\n",
      "1.3277625526595251\n",
      "2.5439490421044315\n",
      "11.423508512334099\n",
      "14.714568761300985\n",
      "0.0\n",
      "-2.0083756345598016\n",
      "0.0\n",
      "0.0\n",
      "0.0\n",
      "0.0\n",
      "0.0\n",
      "0.0\n",
      "-2.4282442982772876\n",
      "0.0\n",
      "0.0\n",
      "6.521369240550279\n",
      "0.0\n",
      "0.0\n",
      "-1.2512438115869116\n",
      "-5.717849726396663\n",
      "0.0\n",
      "9.988070210767827\n",
      "8.65948071863508\n",
      "0.0\n",
      "0.0\n",
      "0.0\n",
      "-2.721243643312115\n",
      "-6.301659292688998\n",
      "0.0\n",
      "0.0\n",
      "10.60950172511261\n",
      "12.35223712240803\n",
      "-4.32363279458309\n",
      "0.0\n",
      "0.0\n",
      "-13.973249230104965\n",
      "0.0\n",
      "0.0\n",
      "0.0\n",
      "0.3410581636710963\n",
      "0.0\n",
      "0.0\n",
      "6.0052638480351765\n",
      "-8.046982551980093\n",
      "7.230948837788706\n",
      "0.0\n",
      "5.997992884717406\n",
      "0.0\n",
      "-1.5273350132196273\n",
      "12.561884408870052\n",
      "-9.922778568247857\n",
      "0.0\n",
      "0.0\n",
      "0.0\n",
      "-28.473528060959307\n",
      "0.0\n",
      "5.350607001941636\n",
      "0.0\n",
      "-13.982839327364873\n",
      "3.54518863148841\n",
      "0.0\n",
      "4.207329146103452\n",
      "0.3394865901609063\n",
      "-24.1699151894597\n",
      "0.6107201563486164\n",
      "3.825587647187506\n",
      "8.307472396441206\n"
     ]
    }
   ],
   "source": [
    "compute_mean(data)"
   ]
  },
  {
   "cell_type": "code",
   "execution_count": null,
   "metadata": {},
   "outputs": [],
   "source": []
  }
 ],
 "metadata": {
  "kernelspec": {
   "display_name": "Python 3",
   "language": "python",
   "name": "python3"
  },
  "language_info": {
   "codemirror_mode": {
    "name": "ipython",
    "version": 3
   },
   "file_extension": ".py",
   "mimetype": "text/x-python",
   "name": "python",
   "nbconvert_exporter": "python",
   "pygments_lexer": "ipython3",
   "version": "3.9.6"
  }
 },
 "nbformat": 4,
 "nbformat_minor": 4
}
