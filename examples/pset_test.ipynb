{
 "cells": [
  {
   "cell_type": "code",
   "execution_count": 1,
   "metadata": {},
   "outputs": [],
   "source": [
    "from numba import njit\n",
    "from numba.experimental import jitclass\n",
    "# from parcels.particleset.numbaset_soa import NumbaCollectionSOA, sum_collection\n",
    "import numba as nb\n",
    "import numpy as np\n",
    "from parcels import ScipyParticle\n",
    "from parcels.particleset.numba_aos import create_pset_from_ptype, convert_pset_to_tlist, convert_tlist_to_pset\n",
    "from parcels import FieldSet, ParticleSet"
   ]
  },
  {
   "cell_type": "code",
   "execution_count": 2,
   "metadata": {},
   "outputs": [
    {
     "name": "stdout",
     "output_type": "stream",
     "text": [
      "time 0\n",
      "id 0\n",
      "dt 0\n",
      "_next_dt nan\n",
      "lon 0\n",
      "lat 0\n",
      "depth 0\n",
      "fileid -1\n",
      "state 1\n"
     ]
    }
   ],
   "source": [
    "pset = create_pset_from_ptype(ScipyParticle.getPType(), 1000, pid=np.arange(1000), lat=np.random.rand(1000))"
   ]
  },
  {
   "cell_type": "code",
   "execution_count": 3,
   "metadata": {},
   "outputs": [],
   "source": [
    "def create_fieldset(xdim=20, ydim=20):\n",
    "    \"\"\" Standard unit mesh fieldset \"\"\"\n",
    "    lon = np.linspace(0., 1., xdim, dtype=np.float32)\n",
    "    lat = np.linspace(0., 1., ydim, dtype=np.float32)\n",
    "    U, V = np.meshgrid(lat, lon)\n",
    "    data = {'U': np.array(U, dtype=np.float32), 'V': np.array(V, dtype=np.float32)}\n",
    "    dimensions = {'lat': lat, 'lon': lon}\n",
    "    return FieldSet.from_data(data, dimensions, mesh='spherical')\n",
    "fieldset = create_fieldset()"
   ]
  },
  {
   "cell_type": "code",
   "execution_count": 4,
   "metadata": {},
   "outputs": [],
   "source": [
    "n_particles = 1000\n",
    "\n",
    "python_pset = ParticleSet(fieldset, pclass=ScipyParticle, lon=np.random.rand(n_particles),\n",
    "                          lat=np.random.rand(n_particles))"
   ]
  },
  {
   "cell_type": "code",
   "execution_count": 5,
   "metadata": {},
   "outputs": [],
   "source": [
    "numba_pset = convert_pset_to_tlist(python_pset)"
   ]
  },
  {
   "cell_type": "code",
   "execution_count": 6,
   "metadata": {},
   "outputs": [
    {
     "data": {
      "text/plain": [
       "(0.06274404376745224, 0.062744044)"
      ]
     },
     "execution_count": 6,
     "metadata": {},
     "output_type": "execute_result"
    }
   ],
   "source": [
    "numba_pset[100].lat, python_pset[100].lat"
   ]
  },
  {
   "cell_type": "code",
   "execution_count": 7,
   "metadata": {},
   "outputs": [
    {
     "data": {
      "text/plain": [
       "(1.0, 0.062744044)"
      ]
     },
     "execution_count": 7,
     "metadata": {},
     "output_type": "execute_result"
    }
   ],
   "source": [
    "numba_pset[100].lat = 1\n",
    "numba_pset[100].lat, python_pset[100].lat"
   ]
  },
  {
   "cell_type": "code",
   "execution_count": 8,
   "metadata": {},
   "outputs": [],
   "source": [
    "convert_tlist_to_pset(numba_pset, python_pset)"
   ]
  },
  {
   "cell_type": "code",
   "execution_count": 9,
   "metadata": {},
   "outputs": [
    {
     "data": {
      "text/plain": [
       "(1.0, 1.0)"
      ]
     },
     "execution_count": 9,
     "metadata": {},
     "output_type": "execute_result"
    }
   ],
   "source": [
    "numba_pset[100].lat, python_pset[100].lat"
   ]
  },
  {
   "cell_type": "code",
   "execution_count": 10,
   "metadata": {},
   "outputs": [],
   "source": [
    "n_particles = int(1e7)"
   ]
  },
  {
   "cell_type": "code",
   "execution_count": 11,
   "metadata": {},
   "outputs": [
    {
     "ename": "NameError",
     "evalue": "name 'NumbaCollectionSOA' is not defined",
     "output_type": "error",
     "traceback": [
      "\u001b[0;31m---------------------------------------------------------------------------\u001b[0m",
      "\u001b[0;31mNameError\u001b[0m                                 Traceback (most recent call last)",
      "\u001b[0;32m<ipython-input-11-113fadf5b865>\u001b[0m in \u001b[0;36m<module>\u001b[0;34m\u001b[0m\n\u001b[0;32m----> 1\u001b[0;31m \u001b[0mnc\u001b[0m \u001b[0;34m=\u001b[0m \u001b[0mjitclass\u001b[0m\u001b[0;34m(\u001b[0m\u001b[0mNumbaCollectionSOA\u001b[0m\u001b[0;34m,\u001b[0m \u001b[0mspec\u001b[0m\u001b[0;34m=\u001b[0m\u001b[0;34m{\u001b[0m\u001b[0;34m\"n_particles\"\u001b[0m\u001b[0;34m:\u001b[0m \u001b[0mnb\u001b[0m\u001b[0;34m.\u001b[0m\u001b[0mint64\u001b[0m\u001b[0;34m,\u001b[0m \u001b[0;34m\"lat\"\u001b[0m\u001b[0;34m:\u001b[0m \u001b[0mnb\u001b[0m\u001b[0;34m.\u001b[0m\u001b[0mfloat64\u001b[0m\u001b[0;34m[\u001b[0m\u001b[0;34m:\u001b[0m\u001b[0;34m]\u001b[0m\u001b[0;34m}\u001b[0m\u001b[0;34m)\u001b[0m\u001b[0;34m\u001b[0m\u001b[0;34m\u001b[0m\u001b[0m\n\u001b[0m",
      "\u001b[0;31mNameError\u001b[0m: name 'NumbaCollectionSOA' is not defined"
     ]
    }
   ],
   "source": [
    "nc = jitclass(NumbaCollectionSOA, spec={\"n_particles\": nb.int64, \"lat\": nb.float64[:]})"
   ]
  },
  {
   "cell_type": "code",
   "execution_count": null,
   "metadata": {},
   "outputs": [],
   "source": [
    "pset = nc(n_particles=n_particles)"
   ]
  },
  {
   "cell_type": "code",
   "execution_count": null,
   "metadata": {},
   "outputs": [],
   "source": [
    "pset.lat = np.empty(n_particles, np.float64)"
   ]
  },
  {
   "cell_type": "code",
   "execution_count": null,
   "metadata": {},
   "outputs": [],
   "source": [
    "pset.lat[:] = np.arange(n_particles)"
   ]
  },
  {
   "cell_type": "code",
   "execution_count": null,
   "metadata": {},
   "outputs": [],
   "source": [
    "sum_collection(pset)"
   ]
  },
  {
   "cell_type": "code",
   "execution_count": null,
   "metadata": {},
   "outputs": [],
   "source": [
    "pset.lat"
   ]
  },
  {
   "cell_type": "code",
   "execution_count": null,
   "metadata": {},
   "outputs": [],
   "source": [
    "nb.typeof(pset.lat)"
   ]
  },
  {
   "cell_type": "code",
   "execution_count": null,
   "metadata": {},
   "outputs": [],
   "source": []
  }
 ],
 "metadata": {
  "kernelspec": {
   "display_name": "Python 3",
   "language": "python",
   "name": "python3"
  },
  "language_info": {
   "codemirror_mode": {
    "name": "ipython",
    "version": 3
   },
   "file_extension": ".py",
   "mimetype": "text/x-python",
   "name": "python",
   "nbconvert_exporter": "python",
   "pygments_lexer": "ipython3",
   "version": "3.9.9"
  }
 },
 "nbformat": 4,
 "nbformat_minor": 4
}
